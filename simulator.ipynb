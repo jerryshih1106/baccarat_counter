{
 "cells": [
  {
   "cell_type": "code",
   "execution_count": 18,
   "metadata": {},
   "outputs": [],
   "source": [
    "from simulator.baccarat_dealer import BaccaratDealer\n",
    "dealer = BaccaratDealer()"
   ]
  },
  {
   "cell_type": "code",
   "execution_count": 19,
   "metadata": {},
   "outputs": [],
   "source": [
    "stat = {\"閒家贏\": 0, \"莊家贏\" : 0, \"和局\" : 0}\n",
    "while dealer.shoe_num <= 100000:\n",
    "    res, player, banker = dealer.play_baccarat()\n",
    "    stat[res] += 1\n"
   ]
  },
  {
   "cell_type": "code",
   "execution_count": 22,
   "metadata": {},
   "outputs": [],
   "source": [
    "player_win_rate = (stat[\"閒家贏\"]) / (sum(stat.values()) - stat[\"和局\"])\n",
    "banker_win_rate = (stat[\"莊家贏\"]) / (sum(stat.values()) - stat[\"和局\"])\n",
    "save_win_rate = stat[\"和局\"] / (sum(stat.values()) - stat[\"和局\"])\n",
    "player_win_money_ratio = round((stat[\"閒家贏\"] / stat[\"莊家贏\"] - 1), 2)\n",
    "banker_win_money_ratio = round((stat[\"莊家贏\"] * 0.95 / stat[\"閒家贏\"] - 1), 2)\n"
   ]
  },
  {
   "cell_type": "code",
   "execution_count": 23,
   "metadata": {},
   "outputs": [
    {
     "data": {
      "text/plain": [
       "0.10546725153892493"
      ]
     },
     "execution_count": 23,
     "metadata": {},
     "output_type": "execute_result"
    }
   ],
   "source": [
    "player_win_rate\n",
    "banker_win_rate\n",
    "save_win_rate"
   ]
  },
  {
   "cell_type": "code",
   "execution_count": 24,
   "metadata": {},
   "outputs": [
    {
     "data": {
      "text/plain": [
       "-0.03"
      ]
     },
     "execution_count": 24,
     "metadata": {},
     "output_type": "execute_result"
    }
   ],
   "source": [
    "player_win_money_ratio"
   ]
  },
  {
   "cell_type": "code",
   "execution_count": 25,
   "metadata": {},
   "outputs": [
    {
     "data": {
      "text/plain": [
       "-0.02"
      ]
     },
     "execution_count": 25,
     "metadata": {},
     "output_type": "execute_result"
    }
   ],
   "source": [
    "banker_win_money_ratio"
   ]
  },
  {
   "cell_type": "code",
   "execution_count": null,
   "metadata": {},
   "outputs": [],
   "source": []
  }
 ],
 "metadata": {
  "kernelspec": {
   "display_name": "py39",
   "language": "python",
   "name": "python3"
  },
  "language_info": {
   "codemirror_mode": {
    "name": "ipython",
    "version": 3
   },
   "file_extension": ".py",
   "mimetype": "text/x-python",
   "name": "python",
   "nbconvert_exporter": "python",
   "pygments_lexer": "ipython3",
   "version": "3.9.19"
  }
 },
 "nbformat": 4,
 "nbformat_minor": 2
}
