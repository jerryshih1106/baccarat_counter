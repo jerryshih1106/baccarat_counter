{
 "cells": [
  {
   "cell_type": "code",
   "execution_count": 24,
   "metadata": {},
   "outputs": [],
   "source": [
    "# initial setting\n",
    "from simulator.baccarat_dealer import BaccaratDealer\n",
    "from simulator.dragon_seven_palyer import DragonSevenPlayer\n",
    "dealer = BaccaratDealer()\n",
    "hero = DragonSevenPlayer()"
   ]
  },
  {
   "cell_type": "code",
   "execution_count": 25,
   "metadata": {},
   "outputs": [],
   "source": [
    "stat = {\"閒家贏\": 0, \"莊家贏\" : 0, \"和局\" : 0}"
   ]
  },
  {
   "cell_type": "code",
   "execution_count": 26,
   "metadata": {},
   "outputs": [],
   "source": [
    "# setting 跑幾次模擬\n",
    "\n",
    "while dealer.shoe_num <= 100000:\n",
    "    # print(dealer.shoe_num, hero.cur_shoe)\n",
    "    if dealer.shoe_num != hero.cur_shoe:\n",
    "        hero.reset_score()\n",
    "    hero.judge_and_bet()\n",
    "    # print(f\"第 {hero.cur_shoe} 牌靴\", \" 是否下注：\", hero.bet_flag, \" Score: \", hero.score)\n",
    "    res, player, banker = dealer.play_baccarat()\n",
    "    stat[res] += 1\n",
    "    hero.review_result(player, banker)\n",
    "    hero.counting(player + banker)\n",
    "    \n",
    "# print(\"player:\", player, \"banker: \",banker)\n",
    "# print(\"hero score: \", hero.score)"
   ]
  },
  {
   "cell_type": "code",
   "execution_count": 27,
   "metadata": {},
   "outputs": [
    {
     "data": {
      "text/plain": [
       "4702779"
      ]
     },
     "execution_count": 27,
     "metadata": {},
     "output_type": "execute_result"
    }
   ],
   "source": [
    "sum(stat.values())"
   ]
  },
  {
   "cell_type": "code",
   "execution_count": 28,
   "metadata": {},
   "outputs": [
    {
     "data": {
      "text/plain": [
       "76238"
      ]
     },
     "execution_count": 28,
     "metadata": {},
     "output_type": "execute_result"
    }
   ],
   "source": [
    "#龍七下著次數\n",
    "hero.bet_times"
   ]
  },
  {
   "cell_type": "code",
   "execution_count": 29,
   "metadata": {},
   "outputs": [
    {
     "data": {
      "text/plain": [
       "1923"
      ]
     },
     "execution_count": 29,
     "metadata": {},
     "output_type": "execute_result"
    }
   ],
   "source": [
    "#龍七勝利次數\n",
    "hero.win_times"
   ]
  },
  {
   "cell_type": "code",
   "execution_count": 30,
   "metadata": {},
   "outputs": [
    {
     "data": {
      "text/plain": [
       "0.008945670138251316"
      ]
     },
     "execution_count": 30,
     "metadata": {},
     "output_type": "execute_result"
    }
   ],
   "source": [
    "#龍七期望值\n",
    "hero.win_times * 40 / hero.bet_times - 1"
   ]
  },
  {
   "cell_type": "code",
   "execution_count": 22,
   "metadata": {},
   "outputs": [],
   "source": [
    "player_win_rate = (stat[\"閒家贏\"]) / (sum(stat.values()) - stat[\"和局\"])\n",
    "banker_win_rate = (stat[\"莊家贏\"]) / (sum(stat.values()) - stat[\"和局\"])\n",
    "save_win_rate = stat[\"和局\"] / (sum(stat.values()) - stat[\"和局\"])\n",
    "player_win_money_ratio = round((stat[\"閒家贏\"] / stat[\"莊家贏\"] - 1), 2)\n",
    "banker_win_money_ratio = round((stat[\"莊家贏\"] * 0.95 / stat[\"閒家贏\"] - 1), 2)\n"
   ]
  },
  {
   "cell_type": "code",
   "execution_count": 23,
   "metadata": {},
   "outputs": [
    {
     "data": {
      "text/plain": [
       "0.10546725153892493"
      ]
     },
     "execution_count": 23,
     "metadata": {},
     "output_type": "execute_result"
    }
   ],
   "source": [
    "player_win_rate\n",
    "banker_win_rate\n",
    "save_win_rate"
   ]
  },
  {
   "cell_type": "code",
   "execution_count": 24,
   "metadata": {},
   "outputs": [
    {
     "data": {
      "text/plain": [
       "-0.03"
      ]
     },
     "execution_count": 24,
     "metadata": {},
     "output_type": "execute_result"
    }
   ],
   "source": [
    "player_win_money_ratio"
   ]
  },
  {
   "cell_type": "code",
   "execution_count": 25,
   "metadata": {},
   "outputs": [
    {
     "data": {
      "text/plain": [
       "-0.02"
      ]
     },
     "execution_count": 25,
     "metadata": {},
     "output_type": "execute_result"
    }
   ],
   "source": [
    "banker_win_money_ratio"
   ]
  },
  {
   "cell_type": "code",
   "execution_count": 1,
   "metadata": {},
   "outputs": [],
   "source": []
  }
 ],
 "metadata": {
  "kernelspec": {
   "display_name": "py39",
   "language": "python",
   "name": "python3"
  },
  "language_info": {
   "codemirror_mode": {
    "name": "ipython",
    "version": 3
   },
   "file_extension": ".py",
   "mimetype": "text/x-python",
   "name": "python",
   "nbconvert_exporter": "python",
   "pygments_lexer": "ipython3",
   "version": "3.9.19"
  }
 },
 "nbformat": 4,
 "nbformat_minor": 2
}
